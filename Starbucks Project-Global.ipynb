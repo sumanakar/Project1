{
 "cells": [
  {
   "cell_type": "code",
   "execution_count": 1,
   "metadata": {
    "collapsed": true
   },
   "outputs": [],
   "source": [
    "#import all the dependencies\n",
    "import json\n",
    "import csv\n",
    "import pandas as pd\n",
    "import numpy as np\n",
    "import matplotlib.pyplot as plt\n",
    "import requests as req\n",
    "import datetime\n",
    "import matplotlib.patches as mpatches \n",
    "from matplotlib import font_manager as fm\n",
    "import seaborn as sns\n",
    "import gender_guesser.detector as gender\n",
    "import scipy.stats as stats\n",
    "import math"
   ]
  },
  {
   "cell_type": "code",
   "execution_count": 2,
   "metadata": {},
   "outputs": [
    {
     "data": {
      "text/html": [
       "<div>\n",
       "<style>\n",
       "    .dataframe thead tr:only-child th {\n",
       "        text-align: right;\n",
       "    }\n",
       "\n",
       "    .dataframe thead th {\n",
       "        text-align: left;\n",
       "    }\n",
       "\n",
       "    .dataframe tbody tr th {\n",
       "        vertical-align: top;\n",
       "    }\n",
       "</style>\n",
       "<table border=\"1\" class=\"dataframe\">\n",
       "  <thead>\n",
       "    <tr style=\"text-align: right;\">\n",
       "      <th></th>\n",
       "      <th>Brand</th>\n",
       "      <th>Store Number</th>\n",
       "      <th>Ownership Type</th>\n",
       "      <th>City</th>\n",
       "      <th>State/Province</th>\n",
       "      <th>Country</th>\n",
       "      <th>Postcode</th>\n",
       "      <th>Longitude</th>\n",
       "      <th>Latitude</th>\n",
       "      <th>New_Country_Code</th>\n",
       "      <th>Avg_Temp_celcius</th>\n",
       "    </tr>\n",
       "  </thead>\n",
       "  <tbody>\n",
       "    <tr>\n",
       "      <th>0</th>\n",
       "      <td>Starbucks</td>\n",
       "      <td>47370-257954</td>\n",
       "      <td>Licensed</td>\n",
       "      <td>Andorra la Vella</td>\n",
       "      <td>7</td>\n",
       "      <td>AD</td>\n",
       "      <td>AD500</td>\n",
       "      <td>1.53</td>\n",
       "      <td>42.51</td>\n",
       "      <td></td>\n",
       "      <td></td>\n",
       "    </tr>\n",
       "    <tr>\n",
       "      <th>1</th>\n",
       "      <td>Starbucks</td>\n",
       "      <td>22331-212325</td>\n",
       "      <td>Licensed</td>\n",
       "      <td>Ajman</td>\n",
       "      <td>AJ</td>\n",
       "      <td>AE</td>\n",
       "      <td>NaN</td>\n",
       "      <td>55.47</td>\n",
       "      <td>25.42</td>\n",
       "      <td></td>\n",
       "      <td></td>\n",
       "    </tr>\n",
       "    <tr>\n",
       "      <th>2</th>\n",
       "      <td>Starbucks</td>\n",
       "      <td>47089-256771</td>\n",
       "      <td>Licensed</td>\n",
       "      <td>Ajman</td>\n",
       "      <td>AJ</td>\n",
       "      <td>AE</td>\n",
       "      <td>NaN</td>\n",
       "      <td>55.47</td>\n",
       "      <td>25.39</td>\n",
       "      <td></td>\n",
       "      <td></td>\n",
       "    </tr>\n",
       "    <tr>\n",
       "      <th>3</th>\n",
       "      <td>Starbucks</td>\n",
       "      <td>22126-218024</td>\n",
       "      <td>Licensed</td>\n",
       "      <td>Abu Dhabi</td>\n",
       "      <td>AZ</td>\n",
       "      <td>AE</td>\n",
       "      <td>NaN</td>\n",
       "      <td>54.38</td>\n",
       "      <td>24.48</td>\n",
       "      <td></td>\n",
       "      <td></td>\n",
       "    </tr>\n",
       "    <tr>\n",
       "      <th>4</th>\n",
       "      <td>Starbucks</td>\n",
       "      <td>17127-178586</td>\n",
       "      <td>Licensed</td>\n",
       "      <td>Abu Dhabi</td>\n",
       "      <td>AZ</td>\n",
       "      <td>AE</td>\n",
       "      <td>NaN</td>\n",
       "      <td>54.54</td>\n",
       "      <td>24.51</td>\n",
       "      <td></td>\n",
       "      <td></td>\n",
       "    </tr>\n",
       "  </tbody>\n",
       "</table>\n",
       "</div>"
      ],
      "text/plain": [
       "       Brand  Store Number Ownership Type              City State/Province  \\\n",
       "0  Starbucks  47370-257954       Licensed  Andorra la Vella              7   \n",
       "1  Starbucks  22331-212325       Licensed             Ajman             AJ   \n",
       "2  Starbucks  47089-256771       Licensed             Ajman             AJ   \n",
       "3  Starbucks  22126-218024       Licensed         Abu Dhabi             AZ   \n",
       "4  Starbucks  17127-178586       Licensed         Abu Dhabi             AZ   \n",
       "\n",
       "  Country Postcode  Longitude  Latitude New_Country_Code Avg_Temp_celcius  \n",
       "0      AD    AD500       1.53     42.51                                    \n",
       "1      AE      NaN      55.47     25.42                                    \n",
       "2      AE      NaN      55.47     25.39                                    \n",
       "3      AE      NaN      54.38     24.48                                    \n",
       "4      AE      NaN      54.54     24.51                                    "
      ]
     },
     "execution_count": 2,
     "metadata": {},
     "output_type": "execute_result"
    }
   ],
   "source": [
    "#read the file and store it in dataframe\n",
    "\n",
    "starbucks=pd.read_csv(\"directory.csv\")\n",
    "starbucks=starbucks.dropna(axis=1, how='all')\n",
    "starbucks=starbucks.drop([\"Store Name\",\"Street Address\",\"Timezone\",\"Phone Number\"],axis=1)\n",
    "starbucks[\"New_Country_Code\"]=''\n",
    "starbucks[\"Avg_Temp_celcius\"]=''\n",
    "starbucks.head()"
   ]
  },
  {
   "cell_type": "code",
   "execution_count": 3,
   "metadata": {
    "collapsed": true
   },
   "outputs": [],
   "source": [
    "#add the continent for each countries\n",
    "\n",
    "with open('continent_country.json') as json_data:\n",
    "    d = json.load(json_data)   \n",
    "    \n",
    "starbucks[\"Continent\"]=starbucks[\"Country\"].map(d)\n",
    "\n",
    "#drop NA value for thr column \"Continent\"\n",
    "\n",
    "starbucks=starbucks.dropna(subset=[\"Continent\"]) "
   ]
  },
  {
   "cell_type": "markdown",
   "metadata": {},
   "source": [
    "# Starbucks stores have different types of ownership. \n",
    "Do they prefer to have certain type of ownership based on location across the globe?"
   ]
  },
  {
   "cell_type": "code",
   "execution_count": 10,
   "metadata": {
    "collapsed": true
   },
   "outputs": [],
   "source": [
    "starbucks_Lisence=starbucks.loc[starbucks[\"Ownership Type\"]==\"Licensed\"]\n",
    "starbucks_Joint_Venture=starbucks.loc[starbucks[\"Ownership Type\"]==\"Joint Venture\"]\n",
    "starbucks_Company_Owned=starbucks.loc[starbucks[\"Ownership Type\"]==\"Company Owned\"]\n",
    "starbucks_Franchise=starbucks.loc[starbucks[\"Ownership Type\"]==\"Franchise\"]\n",
    "\n",
    "starbucks_continent_l=starbucks_Lisence.groupby([\"Continent\"])[\"Store Number\"].count()\n",
    "starbucks_continent_j=starbucks_Joint_Venture.groupby([\"Continent\"])[\"Store Number\"].count()\n",
    "starbucks_continent_c=starbucks_Company_Owned.groupby([\"Continent\"])[\"Store Number\"].count()\n",
    "starbucks_continent_f=starbucks_Franchise.groupby([\"Continent\"])[\"Store Number\"].count()\n"
   ]
  },
  {
   "cell_type": "code",
   "execution_count": 11,
   "metadata": {},
   "outputs": [
    {
     "data": {
      "text/html": [
       "<div>\n",
       "<style>\n",
       "    .dataframe thead tr:only-child th {\n",
       "        text-align: right;\n",
       "    }\n",
       "\n",
       "    .dataframe thead th {\n",
       "        text-align: left;\n",
       "    }\n",
       "\n",
       "    .dataframe tbody tr th {\n",
       "        vertical-align: top;\n",
       "    }\n",
       "</style>\n",
       "<table border=\"1\" class=\"dataframe\">\n",
       "  <thead>\n",
       "    <tr style=\"text-align: right;\">\n",
       "      <th></th>\n",
       "      <th>Continent</th>\n",
       "      <th>Licensed</th>\n",
       "      <th>Franchised</th>\n",
       "      <th>Joint Venture</th>\n",
       "      <th>Company Owned</th>\n",
       "    </tr>\n",
       "  </thead>\n",
       "  <tbody>\n",
       "    <tr>\n",
       "      <th>0</th>\n",
       "      <td>Africa</td>\n",
       "      <td>43</td>\n",
       "      <td>0</td>\n",
       "      <td>0</td>\n",
       "      <td>0</td>\n",
       "    </tr>\n",
       "    <tr>\n",
       "      <th>1</th>\n",
       "      <td>Asia</td>\n",
       "      <td>1866</td>\n",
       "      <td>0</td>\n",
       "      <td>3771</td>\n",
       "      <td>1859</td>\n",
       "    </tr>\n",
       "    <tr>\n",
       "      <th>2</th>\n",
       "      <td>Australia</td>\n",
       "      <td>46</td>\n",
       "      <td>0</td>\n",
       "      <td>0</td>\n",
       "      <td>0</td>\n",
       "    </tr>\n",
       "    <tr>\n",
       "      <th>3</th>\n",
       "      <td>Europe</td>\n",
       "      <td>705</td>\n",
       "      <td>317</td>\n",
       "      <td>204</td>\n",
       "      <td>647</td>\n",
       "    </tr>\n",
       "    <tr>\n",
       "      <th>4</th>\n",
       "      <td>North America</td>\n",
       "      <td>6405</td>\n",
       "      <td>0</td>\n",
       "      <td>0</td>\n",
       "      <td>9324</td>\n",
       "    </tr>\n",
       "    <tr>\n",
       "      <th>5</th>\n",
       "      <td>South America</td>\n",
       "      <td>307</td>\n",
       "      <td>0</td>\n",
       "      <td>1</td>\n",
       "      <td>102</td>\n",
       "    </tr>\n",
       "  </tbody>\n",
       "</table>\n",
       "</div>"
      ],
      "text/plain": [
       "       Continent Licensed Franchised Joint Venture Company Owned\n",
       "0         Africa       43          0             0             0\n",
       "1           Asia     1866          0          3771          1859\n",
       "2      Australia       46          0             0             0\n",
       "3         Europe      705        317           204           647\n",
       "4  North America     6405          0             0          9324\n",
       "5  South America      307          0             1           102"
      ]
     },
     "execution_count": 11,
     "metadata": {},
     "output_type": "execute_result"
    }
   ],
   "source": [
    "# list of continents\n",
    "continents = list(starbucks_continent_l.index)\n",
    "\n",
    "#list of group buckets\n",
    "buckets = [\"Licensed\", \"Franchised\", \"Joint Venture\", \"Company Owned\"]\n",
    "colors = ['blue','green',\"yellow\",\"red\"]\n",
    "\n",
    "# change groupby values to a dict\n",
    "starbucks_l = starbucks_continent_l.to_dict()\n",
    "starbucks_f = starbucks_continent_f.to_dict()\n",
    "starbucks_c = starbucks_continent_c.to_dict()\n",
    "starbucks_j = starbucks_continent_j.to_dict()\n",
    "\n",
    "continents_df = pd.DataFrame(continents, columns=[\"Continent\"])\n",
    "# continents_df.set_index(\"Continent\")\n",
    "\n",
    "# create placehoders for buckets in dataframe for columns to be plotted\n",
    "for b in buckets:\n",
    "    continents_df[b] = \"\"\n",
    "\n",
    "# need to make sure that all buckets (License, Franchsise, Joint Venture, and Company Owned) have a continent data, enter 0 fill no key found\n",
    "for index, row in continents_df.iterrows():\n",
    "    continents_df.loc[index, \"Licensed\"] = starbucks_l.get(row[\"Continent\"], 0)\n",
    "    continents_df.loc[index, \"Franchised\"] = starbucks_f.get(row[\"Continent\"], 0)\n",
    "    continents_df.loc[index, \"Joint Venture\"] = starbucks_j.get(row[\"Continent\"], 0)\n",
    "    continents_df.loc[index, \"Company Owned\"] = starbucks_c.get(row[\"Continent\"], 0)\n",
    "        \n",
    "                  \n",
    "continents_df\n",
    "\n",
    "\n",
    "\n"
   ]
  },
  {
   "cell_type": "code",
   "execution_count": 12,
   "metadata": {
    "collapsed": true
   },
   "outputs": [],
   "source": [
    "def autolabel(rects):\n",
    "    for rect in rects:\n",
    "        h = rect.get_height()\n",
    "        ax.text(rect.get_x()+rect.get_width()/2., 1.05*h, '%d'%int(h),\n",
    "                ha='center', va='bottom', fontsize=12)\n",
    "\n"
   ]
  },
  {
   "cell_type": "code",
   "execution_count": 14,
   "metadata": {},
   "outputs": [
    {
     "data": {
      "text/plain": [
       "<matplotlib.figure.Figure at 0x176c5d3f748>"
      ]
     },
     "metadata": {},
     "output_type": "display_data"
    },
    {
     "data": {
      "image/png": "[encoded data removed]",
      "text/plain": [
       "<matplotlib.figure.Figure at 0x176c5e28dd8>"
      ]
     },
     "metadata": {},
     "output_type": "display_data"
    }
   ],
   "source": [
    "# set fontsize of labels\n",
    "plt.rc('xtick', labelsize=12) \n",
    "plt.rc('ytick', labelsize=12) \n",
    "\n",
    "nbrContinents = len(continents_df[\"Continent\"])\n",
    "rects = []\n",
    "\n",
    "x_axis = np.arange(0, nbrContinents)\n",
    "\n",
    "fig = plt.figure(figsize=(12,8))\n",
    "\n",
    "ax = plt.subplot(111)\n",
    "\n",
    "# plot each bucket that was grouped by stores\n",
    "width = 0.20\n",
    "offset = -(width*2)\n",
    "for c, b in zip(colors, buckets):\n",
    "    rects.append(ax.bar(x_axis+offset,continents_df[b],width=0.2, linewidth=2, color=c,align='center', label=b))\n",
    "    offset += width\n",
    "    \n",
    "# set up tick values\n",
    "ax.set_yticks(np.arange(0, 12000, 1000))\n",
    "ax.set_xticks(np.arange(-1, nbrContinents+1))\n",
    "\n",
    "# add label at the top of the bar\n",
    "for r in rects:\n",
    "    autolabel(r)\n",
    "\n",
    "# setup tick labels; begin with a blank tiick label\n",
    "xlabels = [\"\"]\n",
    "xlabels.extend(continents)\n",
    "\n",
    "ax.set_xticklabels(xlabels)\n",
    "ylbl = ax.set_ylabel(\"Number of Stores\", fontsize=9)\n",
    "title = ax.set_title(\"Starbucks:  Number of Stores vs Store Type by Continent\", fontsize=15)\n",
    "title.set_position([.5, 1.05])\n",
    "\n",
    "\n",
    "plt.legend(loc=\"best\", fontsize=15)\n",
    "fig1 = plt.gcf()\n",
    "plt.show()\n",
    "plt.draw()\n",
    "fig1.savefig(\"Store Type By Continent.png\")"
   ]
  },
  {
   "cell_type": "markdown",
   "metadata": {},
   "source": [
    "# Climatic impact on Starbucks stragegy of stores in certain place?\n",
    "-Does Starbucks really favor to have stores in cold countries vs hot countries?"
   ]
  },
  {
   "cell_type": "code",
   "execution_count": 8,
   "metadata": {},
   "outputs": [
    {
     "ename": "FileNotFoundError",
     "evalue": "[Errno 2] No such file or directory: 'country.json'",
     "output_type": "error",
     "traceback": [
      "\u001b[1;31m---------------------------------------------------------------------------\u001b[0m",
      "\u001b[1;31mFileNotFoundError\u001b[0m                         Traceback (most recent call last)",
      "\u001b[1;32m<ipython-input-8-65f674add51a>\u001b[0m in \u001b[0;36m<module>\u001b[1;34m()\u001b[0m\n\u001b[0;32m      1\u001b[0m \u001b[1;31m#Convert the country code to new format\u001b[0m\u001b[1;33m\u001b[0m\u001b[1;33m\u001b[0m\u001b[0m\n\u001b[0;32m      2\u001b[0m \u001b[1;33m\u001b[0m\u001b[0m\n\u001b[1;32m----> 3\u001b[1;33m \u001b[1;32mwith\u001b[0m \u001b[0mopen\u001b[0m\u001b[1;33m(\u001b[0m\u001b[1;34m'country.json'\u001b[0m\u001b[1;33m)\u001b[0m \u001b[1;32mas\u001b[0m \u001b[0mjson_data\u001b[0m\u001b[1;33m:\u001b[0m\u001b[1;33m\u001b[0m\u001b[0m\n\u001b[0m\u001b[0;32m      4\u001b[0m     \u001b[0mc\u001b[0m \u001b[1;33m=\u001b[0m \u001b[0mjson\u001b[0m\u001b[1;33m.\u001b[0m\u001b[0mload\u001b[0m\u001b[1;33m(\u001b[0m\u001b[0mjson_data\u001b[0m\u001b[1;33m)\u001b[0m\u001b[1;33m\u001b[0m\u001b[0m\n\u001b[0;32m      5\u001b[0m \u001b[1;33m\u001b[0m\u001b[0m\n",
      "\u001b[1;31mFileNotFoundError\u001b[0m: [Errno 2] No such file or directory: 'country.json'"
     ]
    }
   ],
   "source": [
    "#Convert the country code to new format\n",
    "    \n",
    "with open('country.json') as json_data:\n",
    "    c = json.load(json_data)   \n",
    "    \n",
    "starbucks[\"New_Country_Code\"]=starbucks[\"Country\"].map(c)\n",
    "\n",
    "#drop NA value for thr column \"Continent\"\n",
    "\n",
    "starbucks=starbucks.dropna(subset=[\"New_Country_Code\"]) \n",
    "\n",
    "starbucks.head()"
   ]
  },
  {
   "cell_type": "code",
   "execution_count": null,
   "metadata": {
    "collapsed": true
   },
   "outputs": [],
   "source": [
    "#collect\n",
    "list_countries={}\n",
    "\n",
    "for index,row in starbucks.iterrows():\n",
    "    \n",
    "    value=row[\"New_Country_Code\"]\n",
    "    \n",
    "    if value not in list_countries.keys():\n",
    "        \n",
    "        url=(\"http://climatedataapi.worldbank.org/climateweb/rest/v1/country/cru/tas/year/%s\" %(value))\n",
    "        response=req.get(url).json()\n",
    "        Avg_temp=response[-1][\"data\"]\n",
    "        starbucks.loc[index,\"Avg_Temp_celcius\"]=Avg_temp\n",
    "        list_countries.update({value:Avg_temp})\n",
    "        \n",
    "    else:\n",
    "        \n",
    "        starbucks[\"Avg_Temp_celcius\"]=starbucks[\"New_Country_Code\"].map(list_countries)"
   ]
  },
  {
   "cell_type": "code",
   "execution_count": null,
   "metadata": {},
   "outputs": [],
   "source": [
    "# calculate temperature in Fahrenheit\n",
    "starbucks[\"Fahrenheit\"] = round(((starbucks['Avg_Temp_celcius']*9)/5 + 32), 0)\n",
    "starbucks_Temp= starbucks.groupby(['Fahrenheit']).count()\n",
    "\n",
    "starbucks.head()"
   ]
  },
  {
   "cell_type": "code",
   "execution_count": null,
   "metadata": {
    "collapsed": true
   },
   "outputs": [],
   "source": [
    "# create bin of temperature ranges\n",
    "nbrofbins = 5\n",
    "tempRange = []\n",
    "rangeToUse = (starbucks['Fahrenheit'].max() - starbucks['Fahrenheit'].min())/5\n",
    "\n",
    "for i in np.arange(nbrofbins):\n",
    "    tempRange.append(round(starbucks['Fahrenheit'].min() + (rangeToUse*i), 0))\n",
    "\n",
    "tempRange = np.histogram(starbucks['Fahrenheit'], bins=5, range=None, normed=False, weights=None)\n",
    "# print(tempRange)\n",
    "bins = tempRange[1]\n",
    "# bins = [30, 50, 65, 100]\n",
    "group_names= [\"VERY COLD\", \"COLD\", \"AVERAGE\", \"WARM\", \"HOT\"]\n",
    "\n",
    "categories = pd.cut(starbucks['Fahrenheit'], bins, labels=group_names)\n",
    "starbucks['categories'] = pd.cut(starbucks['Fahrenheit'], bins, labels=group_names)\n",
    "starbucks['tempBinned'] = pd.cut(starbucks['Fahrenheit'], bins)\n",
    "starbucks\n",
    "\n",
    "temperature_group = starbucks.groupby(\"categories\")['Store Number'].count()\n",
    "temperature_group\n",
    "temperature_df = pd.DataFrame(temperature_group)"
   ]
  },
  {
   "cell_type": "code",
   "execution_count": null,
   "metadata": {},
   "outputs": [],
   "source": [
    "# add values and pct\n",
    "def make_autopct(values):\n",
    "    def my_autopct(pct):\n",
    "        total = sum(values)\n",
    "        val = int(round(pct*total/100.0))\n",
    "        return '{p:.2f}%  ({v:d})'.format(p=pct,v=val)\n",
    "    return my_autopct\n",
    "\n",
    "# Data to plot\n",
    "colors = ['#EEDB00','#6699FF','#cb2424','#C5EFFD','#b62020']\n",
    "labels = list(temperature_df.index)\n",
    "    \n",
    "labels = list(temperature_df.index)\n",
    "plt.figure(figsize=(12,12))\n",
    "explode = (0.1, 0.1, 0.1, 0.1, 0.1)  # explode 1st slice\n",
    " \n",
    "\n",
    "# # Plot\n",
    "patches, texts, autotexts = plt.pie(temperature_df['Store Number'], explode=explode, labels=labels, colors=colors, labeldistance=1.05,\n",
    "        autopct=make_autopct(temperature_df['Store Number']), shadow=True, startangle=140)\n",
    "\n",
    "handles, labels = ax.get_legend_handles_labels()\n",
    "\n",
    "vc_patch = mpatches.Patch(color=colors[4], label=\"VERY HOT (> 71.6)\")\n",
    "c_patch = mpatches.Patch(color=colors[2], label=\"WARM (59.2, 71.6)\")\n",
    "a_patch = mpatches.Patch(color=colors[0], label=\"AVERAGE (46.8, 59.2)\")\n",
    "h_patch = mpatches.Patch(color=colors[1], label=\"COLD (34.4, 46.8)\")\n",
    "vh_patch = mpatches.Patch(color=colors[3], label=\"VERY COLD (< 34.4)\")\n",
    "\n",
    "plt.legend(handles=[vc_patch, c_patch, a_patch, h_patch, vh_patch], frameon=True, loc=\"upper right\")\n",
    "    \n",
    "proptease = fm.FontProperties()\n",
    "proptease.set_size('small')\n",
    "plt.setp(autotexts, fontproperties=proptease)\n",
    "plt.setp(texts, fontproperties=proptease)\n",
    "\n",
    "plt.title(\"Starbucks: Number of Stores by Temperature ($^\\circ$F)\", fontsize=15) \n",
    "fig1 = plt.gcf()\n",
    "plt.show()\n",
    "plt.draw()\n",
    "fig1.savefig(\"Stores by Temperature.png\")"
   ]
  },
  {
   "cell_type": "markdown",
   "metadata": {},
   "source": [
    "# How is the sentiment for Starbuck over its competiors(Dunking Donuts and MCcafe)"
   ]
  },
  {
   "cell_type": "code",
   "execution_count": null,
   "metadata": {
    "collapsed": true
   },
   "outputs": [],
   "source": [
    "#Tweet analysis for the Starbucks Sentiment \n",
    "\n",
    "# Dependencies\n",
    "import tweepy\n",
    "import os\n",
    "# Import and Initialize Sentiment Analyzer\n",
    "from vaderSentiment.vaderSentiment import SentimentIntensityAnalyzer\n",
    "analyzer = SentimentIntensityAnalyzer()\n",
    "\n",
    "if os.path.isfile(\"apikey.csv\"):\n",
    "    key_df=pd.read_csv(\"apikey.csv\")\n",
    "    consumer_key=key_df.loc[0,'consumer_key']\n",
    "    consumer_secret=key_df.loc[0,'consumer_secret']\n",
    "    access_token=key_df.loc[0,'access_token']\n",
    "    access_token_secret=key_df.loc[0,'access_token_secret']\n",
    "\n",
    "else:\n",
    "    consumer_key=input(\"Enter the consumer_key: \")\n",
    "    consumer_secret=input(\"Enter the consumer_secret: \")\n",
    "    access_token=input(\"Enter the access_token: \")\n",
    "    access_token_secret=input(\"Enter the access_token_secret: \")\n",
    "    data = [{'consumer_key': consumer_key,'consumer_secret':consumer_secret,'access_token':access_token,'access_token_secret':access_token_secret}]\n",
    "    df = pd.DataFrame(data)\n",
    "    df.to_csv('apikey.csv', index=False)\n",
    "    print(\"file do not exist,creating..\")\n",
    "\n",
    "# Use Tweepy to Authenticate our access\n",
    "auth = tweepy.OAuthHandler(consumer_key, consumer_secret)\n",
    "auth.set_access_token(access_token, access_token_secret)\n",
    "api = tweepy.API(auth, parser=tweepy.parsers.JSONParser())"
   ]
  },
  {
   "cell_type": "code",
   "execution_count": null,
   "metadata": {
    "collapsed": true,
    "scrolled": true
   },
   "outputs": [],
   "source": [
    "# Variables for holding sentiments\n",
    "compound_list = []\n",
    "positive_list = []\n",
    "negative_list = []\n",
    "neutral_list = []\n",
    "\n",
    "compound_list1 = []\n",
    "positive_list1 = []\n",
    "negative_list1 = []\n",
    "neutral_list1 = []\n",
    "\n",
    "tweet_analyze=pd.DataFrame(columns=[\"User\",\"Compound\",'Positive','Negative','Neutral','Gender'])\n",
    "tweet_comp=pd.DataFrame(columns=[\"Top_cafe\",\"Compound\",'Positive','Negative','Neutral'])\n"
   ]
  },
  {
   "cell_type": "code",
   "execution_count": null,
   "metadata": {
    "collapsed": true
   },
   "outputs": [],
   "source": [
    "searchlist=[\"#dunkindonuts\",\"#starbucks\",'#McCafe']\n",
    "\n",
    "for items in searchlist:\n",
    " \n",
    "    text_search=api.search(items,count=100)\n",
    "    text_comment=text_search['statuses']\n",
    "    \n",
    "    for comment in text_comment:\n",
    "        \n",
    "        usertext1 = comment[\"text\"]\n",
    "        \n",
    "        try:\n",
    "\n",
    "            # Run Vader Analysis on each tweet\n",
    "            compound1 = analyzer.polarity_scores(usertext1)[\"compound\"]\n",
    "            pos1 = analyzer.polarity_scores(usertext1)[\"pos\"]\n",
    "            neu1 = analyzer.polarity_scores(usertext1)[\"neu\"]\n",
    "            neg1 = analyzer.polarity_scores(usertext1)[\"neg\"]\n",
    "\n",
    "            #Entering the values in dataframe\n",
    "            tweet_comp = tweet_comp.append([{\"Top_cafe\":items,\n",
    "                                                 \"Compound\":compound1,\n",
    "                                                 \"Positive\":pos1,\n",
    "                                                 \"Negative\":neg1,\n",
    "                                                 \"Neutral\":neu1\n",
    "                                                }],ignore_index=True)\n",
    "\n",
    "        except:\n",
    "            print(\"no values\")\n"
   ]
  },
  {
   "cell_type": "code",
   "execution_count": null,
   "metadata": {},
   "outputs": [],
   "source": [
    "tweet_comp.head()"
   ]
  },
  {
   "cell_type": "code",
   "execution_count": null,
   "metadata": {},
   "outputs": [],
   "source": [
    "t=datetime.date.today()\n",
    "\n",
    "tweet_dunkin=tweet_comp.loc[(tweet_comp[\"Top_cafe\"]==\"#dunkindonuts\")]\n",
    "tweet_starbucks=tweet_comp.loc[(tweet_comp[\"Top_cafe\"]==\"#starbucks\")]\n",
    "tweet_mcafe=tweet_comp.loc[(tweet_comp[\"Top_cafe\"]==\"#McCafe\")]\n",
    "\n",
    "\n",
    "#plot the scatterplot\n",
    "\n",
    "x_tweet_dunkin=np.arange(len(tweet_dunkin))\n",
    "x_starbuck=np.arange(len(tweet_starbucks))\n",
    "x_tweet_mcafe=np.arange(len(tweet_mcafe))\n",
    "\n",
    "Dunkin=plt.scatter(x_tweet_dunkin,tweet_dunkin[\"Compound\"],marker=\"o\",facecolors=\"Red\",edgecolors=\"black\",s=100, alpha=.75,label=\"Dunkin\")\n",
    "Starbucks=plt.scatter(x_starbuck,tweet_starbucks[\"Compound\"],marker=\"o\",facecolors=\"Green\",edgecolors=\"black\",s=100, alpha=.75,label=\"Starbucks\")\n",
    "MCcafe=plt.scatter(x_tweet_mcafe,tweet_mcafe[\"Compound\"],marker=\"o\",facecolors=\"Yellow\",edgecolors=\"black\",s=100, alpha=.75,label=\"Mccafe\")\n",
    "\n",
    "#adding the text to axis and overall title\n",
    "plt.title('Competiter Sentiment as for ' + str(t), fontsize=12)\n",
    "plt.xlabel('Tweet Ago', fontsize=9)\n",
    "plt.ylabel('Sentiment Polarity', fontsize=9)\n",
    "\n",
    "#grid on\n",
    "plt.grid()\n",
    "#plot the legend out side\n",
    "plt.legend(handles=[Dunkin,Starbucks,MCcafe], loc='center left', bbox_to_anchor=(1, 0.5))\n",
    "\n",
    "#increase the plot size\n",
    "plt.rcParams[\"figure.figsize\"] = (15,15)\n",
    "\n",
    "ax = plt.gca()\n",
    "ax.set_facecolor('cornflowerblue')\n",
    "ax.patch.set_alpha(0.1)\n",
    "ax.set_xlim([0, 100])\n",
    "#save the figure\n",
    "plt.savefig('Sentiment_Analysis_Starbuck.png')\n",
    "#show the plot\n",
    "plt.show()\n"
   ]
  },
  {
   "cell_type": "markdown",
   "metadata": {},
   "source": [
    "# Overall Sentiment for Starbucks"
   ]
  },
  {
   "cell_type": "code",
   "execution_count": null,
   "metadata": {},
   "outputs": [],
   "source": [
    "tweet_count=[]\n",
    "\n",
    "for i in range(0,5):\n",
    "    \n",
    "    i+=1\n",
    "    \n",
    "    # Query twitter for data. \n",
    "    text_target=api.search('#starbucks',count=100)\n",
    "    user_target = text_target['statuses']\n",
    "    #print(\"tweet\",user_target)\n",
    "\n",
    "    for tweet in user_target:\n",
    "\n",
    "        try:\n",
    "\n",
    "            user=tweet[\"user\"][\"name\"]\n",
    "            #print(\"user\",user)\n",
    "            first_name = user.split(' ')[0]\n",
    "            usertext=tweet[\"text\"]\n",
    "            tweet_count.append(usertext)\n",
    "\n",
    "            # Run Vader Analysis on each tweet\n",
    "            compound = analyzer.polarity_scores(usertext)[\"compound\"]\n",
    "            pos = analyzer.polarity_scores(usertext)[\"pos\"]\n",
    "            neu = analyzer.polarity_scores(usertext)[\"neu\"]\n",
    "            neg = analyzer.polarity_scores(usertext)[\"neg\"]\n",
    "\n",
    "            #Entering the values in dataframe\n",
    "            tweet_analyze = tweet_analyze.append([{\"User\":first_name,\n",
    "                                                 \"Compound\":compound,\n",
    "                                                 \"Positive\":pos,\n",
    "                                                 \"Negative\":neg,\n",
    "                                                 \"Neutral\":neu\n",
    "                                                }],ignore_index=True)\n",
    "\n",
    "\n",
    "        except:\n",
    "            print(\"No values\")\n",
    "\n",
    "\n",
    "\n",
    "tweet_analyze=tweet_analyze.dropna(subset=[\"User\"])\n",
    "\n",
    "tweet_analyze.head()"
   ]
  },
  {
   "cell_type": "code",
   "execution_count": null,
   "metadata": {},
   "outputs": [],
   "source": [
    "postive_tweet=tweet_analyze[\"Positive\"].mean()\n",
    "Negative_tweet=tweet_analyze[\"Negative\"].mean()\n",
    "Neutral_tweet=tweet_analyze[\"Neutral\"].mean()\n",
    "\n",
    "\n",
    "# Labels for the sections of our pie chart\n",
    "labels = [\"Positive\", \"Negative\", \"Neutral\"]\n",
    "\n",
    "# The values of each section of the pie chart\n",
    "sizes = [postive_tweet, Negative_tweet, Neutral_tweet]\n",
    "\n",
    "# The colors of each section of the pie chart\n",
    "colors = [\"darkGreen\", \"red\", \"lightgreen\"]\n",
    "\n",
    "explode=[.5,0,0]\n",
    "plt.pie(sizes,  labels=labels, colors=colors,autopct=\"%.2f\", shadow=True, startangle=140,explode=explode)\n",
    "\n",
    "# Tells matplotlib that we want a pie chart with equal axes\n",
    "plt.axis(\"equal\")\n",
    "plt.figure(figsize=(8,8))\n",
    "# Prints our pie chart to the screen\n",
    "plt.show()\n",
    "\n"
   ]
  },
  {
   "cell_type": "markdown",
   "metadata": {},
   "source": [
    "## Is Starbucks more popular among male or female?"
   ]
  },
  {
   "cell_type": "code",
   "execution_count": null,
   "metadata": {},
   "outputs": [],
   "source": [
    "\n",
    "\n",
    "name_detect = gender.Detector()\n",
    "genders = []\n",
    "\n",
    "for index,row in tweet_analyze.iterrows(): \n",
    "    name=row[\"User\"].title()\n",
    "    g=name_detect.get_gender(name)\n",
    "    genders.append(g)\n",
    "    \n",
    "tweet_analyze[\"Gender\"] = genders\n",
    "tweet_analyze.head()"
   ]
  },
  {
   "cell_type": "code",
   "execution_count": null,
   "metadata": {},
   "outputs": [],
   "source": [
    "male_tweet=tweet_analyze.loc[(tweet_analyze[\"Gender\"]==\"male\") | (tweet_analyze[\"Gender\"]==\"mostly_male\")]\n",
    "male_tweet.head()"
   ]
  },
  {
   "cell_type": "code",
   "execution_count": null,
   "metadata": {
    "collapsed": true
   },
   "outputs": [],
   "source": [
    "female_tweet=tweet_analyze.loc[(tweet_analyze[\"Gender\"]==\"female\") | (tweet_analyze[\"Gender\"]==\"mostly_female\")]\n"
   ]
  },
  {
   "cell_type": "code",
   "execution_count": null,
   "metadata": {
    "collapsed": true
   },
   "outputs": [],
   "source": [
    "#plot the scatterplot\n",
    "x_male=np.arange(len(male_tweet))\n",
    "x_female=np.arange(len(female_tweet))\n",
    "\n",
    "Male=plt.scatter(x_male,male_tweet[\"Compound\"],marker=\"o\",facecolors=\"Blue\",edgecolors=\"black\",s=100, alpha=1,label=\"Male\")\n",
    "Female=plt.scatter(x_female,female_tweet[\"Compound\"],marker=\"o\",facecolors=\"Red\",edgecolors=\"black\",s=100, alpha=1,label=\"Female\")\n"
   ]
  },
  {
   "cell_type": "code",
   "execution_count": null,
   "metadata": {
    "collapsed": true
   },
   "outputs": [],
   "source": [
    "#time stamp for title\n",
    "import datetime\n",
    "t=datetime.date.today()"
   ]
  },
  {
   "cell_type": "code",
   "execution_count": null,
   "metadata": {},
   "outputs": [],
   "source": [
    "#adding the text to axis and overall title\n",
    "plt.title('Tweet Sentiment as of ' + str(t), fontsize=12)\n",
    "plt.xlabel('Tweet Ago', fontsize=9)\n",
    "plt.ylabel('Tweet Sentiment Polarity', fontsize=9)\n",
    "\n",
    "#grid on\n",
    "plt.grid()\n",
    "#plot the legend out side\n",
    "plt.legend(handles=[Male,Female], loc='center left', bbox_to_anchor=(1, 0.5))\n",
    "\n",
    "#increase the plot size\n",
    "plt.rcParams[\"figure.figsize\"] = (10,8)\n",
    "\n",
    "ax = plt.gca()\n",
    "ax.set_facecolor('cornflowerblue')\n",
    "ax.patch.set_alpha(0.1)\n",
    "ax.set_xlim([0, 75])\n",
    "#save the figure\n",
    "plt.savefig('Sentiment_Analysis_Starbuck.png')\n",
    "#show the plot\n",
    "plt.show()\n"
   ]
  },
  {
   "cell_type": "code",
   "execution_count": null,
   "metadata": {},
   "outputs": [],
   "source": [
    "overall_mean=tweet_analyze[\"Compound\"].mean()\n",
    "# Run 1-Sample T-Test\n",
    "stats.ttest_1samp(a=male_tweet[\"Compound\"], popmean=overall_mean)\n",
    "\n"
   ]
  },
  {
   "cell_type": "code",
   "execution_count": null,
   "metadata": {},
   "outputs": [],
   "source": [
    "stats.ttest_1samp(a=female_tweet[\"Compound\"], popmean=overall_mean)"
   ]
  },
  {
   "cell_type": "code",
   "execution_count": null,
   "metadata": {},
   "outputs": [],
   "source": [
    "# Run 2-Sample T-Test\n",
    "\n",
    "stats.ttest_ind(female_tweet[\"Compound\"], male_tweet[\"Compound\"], equal_var=False)"
   ]
  }
 ],
 "metadata": {
  "kernelspec": {
   "display_name": "Python [conda env:PythonData]",
   "language": "python",
   "name": "conda-env-PythonData-py"
  },
  "language_info": {
   "codemirror_mode": {
    "name": "ipython",
    "version": 3
   },
   "file_extension": ".py",
   "mimetype": "text/x-python",
   "name": "python",
   "nbconvert_exporter": "python",
   "pygments_lexer": "ipython3",
   "version": "3.6.1"
  }
 },
 "nbformat": 4,
 "nbformat_minor": 2
}
